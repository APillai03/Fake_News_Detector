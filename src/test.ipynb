{
 "cells": [
  {
   "cell_type": "code",
   "execution_count": 5,
   "id": "b5e8488f",
   "metadata": {},
   "outputs": [],
   "source": [
    "from Feature import Features\n",
    "from tensorflow.keras.models import load_model\n",
    "\n",
    "    "
   ]
  },
  {
   "cell_type": "code",
   "execution_count": 7,
   "id": "6721525a",
   "metadata": {},
   "outputs": [],
   "source": [
    "feature = Features()"
   ]
  },
  {
   "cell_type": "code",
   "execution_count": 9,
   "id": "b79579c2",
   "metadata": {},
   "outputs": [
    {
     "ename": "KeyError",
     "evalue": "'PROPN'",
     "output_type": "error",
     "traceback": [
      "\u001b[1;31m---------------------------------------------------------------------------\u001b[0m",
      "\u001b[1;31mKeyError\u001b[0m                                  Traceback (most recent call last)",
      "Cell \u001b[1;32mIn[9], line 2\u001b[0m\n\u001b[0;32m      1\u001b[0m news \u001b[38;5;241m=\u001b[39m \u001b[38;5;28minput\u001b[39m(\u001b[38;5;124m\"\u001b[39m\u001b[38;5;124mEnter the News you want to check: \u001b[39m\u001b[38;5;124m\"\u001b[39m)\n\u001b[1;32m----> 2\u001b[0m metadata \u001b[38;5;241m=\u001b[39m \u001b[43mfeature\u001b[49m\u001b[38;5;241;43m.\u001b[39;49m\u001b[43mextract_article_features\u001b[49m\u001b[43m(\u001b[49m\u001b[43mnews\u001b[49m\u001b[43m)\u001b[49m\n",
      "File \u001b[1;32md:\\Projects\\Fake_News_Detector\\src\\Feature.py:95\u001b[0m, in \u001b[0;36mFeatures.extract_article_features\u001b[1;34m(self, text)\u001b[0m\n\u001b[0;32m     80\u001b[0m         pos_counts[pos] \u001b[38;5;241m=\u001b[39m pos_counts\u001b[38;5;241m.\u001b[39mget(pos, \u001b[38;5;241m0\u001b[39m) \u001b[38;5;241m+\u001b[39m \u001b[38;5;241m1\u001b[39m\n\u001b[0;32m     81\u001b[0m pos_ratios \u001b[38;5;241m=\u001b[39m {k: \u001b[38;5;28mround\u001b[39m(v \u001b[38;5;241m/\u001b[39m total_tokens, \u001b[38;5;241m3\u001b[39m) \u001b[38;5;28;01mfor\u001b[39;00m k, v \u001b[38;5;129;01min\u001b[39;00m pos_counts\u001b[38;5;241m.\u001b[39mitems()}\n\u001b[0;32m     83\u001b[0m \u001b[38;5;28;01mreturn\u001b[39;00m {\n\u001b[0;32m     84\u001b[0m     \u001b[38;5;124m\"\u001b[39m\u001b[38;5;124mnum_characters\u001b[39m\u001b[38;5;124m\"\u001b[39m: num_chars,\n\u001b[0;32m     85\u001b[0m     \u001b[38;5;124m\"\u001b[39m\u001b[38;5;124mnum_words\u001b[39m\u001b[38;5;124m\"\u001b[39m: num_words,\n\u001b[0;32m     86\u001b[0m     \u001b[38;5;124m\"\u001b[39m\u001b[38;5;124mnum_sentences\u001b[39m\u001b[38;5;124m\"\u001b[39m: num_sentences,\n\u001b[0;32m     87\u001b[0m     \u001b[38;5;124m\"\u001b[39m\u001b[38;5;124mavg_sentence_length\u001b[39m\u001b[38;5;124m\"\u001b[39m: avg_sentence_length,\n\u001b[0;32m     88\u001b[0m     \u001b[38;5;124m\"\u001b[39m\u001b[38;5;124mnum_capitalized_words\u001b[39m\u001b[38;5;124m\"\u001b[39m: num_caps,\n\u001b[0;32m     89\u001b[0m     \u001b[38;5;124m\"\u001b[39m\u001b[38;5;124mnum_exclamations\u001b[39m\u001b[38;5;124m\"\u001b[39m: num_exclamations,\n\u001b[0;32m     90\u001b[0m     \u001b[38;5;124m\"\u001b[39m\u001b[38;5;124mnum_questions\u001b[39m\u001b[38;5;124m\"\u001b[39m: num_questions,\n\u001b[0;32m     91\u001b[0m     \u001b[38;5;124m\"\u001b[39m\u001b[38;5;124mhas_clickbait_words\u001b[39m\u001b[38;5;124m\"\u001b[39m: has_clickbait,\n\u001b[0;32m     92\u001b[0m     \u001b[38;5;124m\"\u001b[39m\u001b[38;5;124mreadability_score\u001b[39m\u001b[38;5;124m\"\u001b[39m: readability_score,\n\u001b[0;32m     93\u001b[0m     \u001b[38;5;124m\"\u001b[39m\u001b[38;5;124msentiment_polarity\u001b[39m\u001b[38;5;124m\"\u001b[39m: polarity,\n\u001b[0;32m     94\u001b[0m     \u001b[38;5;124m\"\u001b[39m\u001b[38;5;124msentiment_subjectivity\u001b[39m\u001b[38;5;124m\"\u001b[39m: subjectivity,\n\u001b[1;32m---> 95\u001b[0m     \u001b[38;5;124m\"\u001b[39m\u001b[38;5;124mPROPN\u001b[39m\u001b[38;5;124m\"\u001b[39m: \u001b[43mpos_ratios\u001b[49m\u001b[43m[\u001b[49m\u001b[38;5;124;43m\"\u001b[39;49m\u001b[38;5;124;43mPROPN\u001b[39;49m\u001b[38;5;124;43m\"\u001b[39;49m\u001b[43m]\u001b[49m,\n\u001b[0;32m     96\u001b[0m     \u001b[38;5;124m\"\u001b[39m\u001b[38;5;124mADV\u001b[39m\u001b[38;5;124m\"\u001b[39m: pos_ratios[\u001b[38;5;124m\"\u001b[39m\u001b[38;5;124mADV\u001b[39m\u001b[38;5;124m\"\u001b[39m],\n\u001b[0;32m     97\u001b[0m     \u001b[38;5;124m\"\u001b[39m\u001b[38;5;124mVERB\u001b[39m\u001b[38;5;124m\"\u001b[39m: pos_ratios[\u001b[38;5;124m\"\u001b[39m\u001b[38;5;124mVERB\u001b[39m\u001b[38;5;124m\"\u001b[39m],\n\u001b[0;32m     98\u001b[0m     \u001b[38;5;124m\"\u001b[39m\u001b[38;5;124mDET\u001b[39m\u001b[38;5;124m\"\u001b[39m: pos_ratios[\u001b[38;5;124m\"\u001b[39m\u001b[38;5;124mDET\u001b[39m\u001b[38;5;124m\"\u001b[39m],\n\u001b[0;32m     99\u001b[0m     \u001b[38;5;124m\"\u001b[39m\u001b[38;5;124mCCONJ\u001b[39m\u001b[38;5;124m\"\u001b[39m: pos_ratios[\u001b[38;5;124m\"\u001b[39m\u001b[38;5;124mCCONJ\u001b[39m\u001b[38;5;124m\"\u001b[39m],\n\u001b[0;32m    100\u001b[0m     \u001b[38;5;124m\"\u001b[39m\u001b[38;5;124mPRON\u001b[39m\u001b[38;5;124m\"\u001b[39m: pos_ratios[\u001b[38;5;124m\"\u001b[39m\u001b[38;5;124mPRON\u001b[39m\u001b[38;5;124m\"\u001b[39m],\n\u001b[0;32m    101\u001b[0m     \u001b[38;5;124m\"\u001b[39m\u001b[38;5;124mADP\u001b[39m\u001b[38;5;124m\"\u001b[39m: pos_ratios[\u001b[38;5;124m\"\u001b[39m\u001b[38;5;124mADP\u001b[39m\u001b[38;5;124m\"\u001b[39m],\n\u001b[0;32m    102\u001b[0m     \u001b[38;5;124m\"\u001b[39m\u001b[38;5;124mPART\u001b[39m\u001b[38;5;124m\"\u001b[39m: pos_ratios[\u001b[38;5;124m\"\u001b[39m\u001b[38;5;124mPART\u001b[39m\u001b[38;5;124m\"\u001b[39m],\n\u001b[0;32m    103\u001b[0m     \u001b[38;5;124m\"\u001b[39m\u001b[38;5;124mNOUN\u001b[39m\u001b[38;5;124m\"\u001b[39m: pos_ratios[\u001b[38;5;124m\"\u001b[39m\u001b[38;5;124mNOUN\u001b[39m\u001b[38;5;124m\"\u001b[39m],\n\u001b[0;32m    104\u001b[0m     \u001b[38;5;124m\"\u001b[39m\u001b[38;5;124mADJ\u001b[39m\u001b[38;5;124m\"\u001b[39m: pos_ratios[\u001b[38;5;124m\"\u001b[39m\u001b[38;5;124mADJ\u001b[39m\u001b[38;5;124m\"\u001b[39m],\n\u001b[0;32m    105\u001b[0m     \u001b[38;5;124m\"\u001b[39m\u001b[38;5;124mNUM\u001b[39m\u001b[38;5;124m\"\u001b[39m: pos_ratios[\u001b[38;5;124m\"\u001b[39m\u001b[38;5;124mNUM\u001b[39m\u001b[38;5;124m\"\u001b[39m],\n\u001b[0;32m    106\u001b[0m     \u001b[38;5;124m\"\u001b[39m\u001b[38;5;124mSCONJ\u001b[39m\u001b[38;5;124m\"\u001b[39m: pos_ratios[\u001b[38;5;124m\"\u001b[39m\u001b[38;5;124mSCONJ\u001b[39m\u001b[38;5;124m\"\u001b[39m],\n\u001b[0;32m    107\u001b[0m     \u001b[38;5;124m\"\u001b[39m\u001b[38;5;124mAUX\u001b[39m\u001b[38;5;124m\"\u001b[39m: pos_ratios[\u001b[38;5;124m\"\u001b[39m\u001b[38;5;124mAUX\u001b[39m\u001b[38;5;124m\"\u001b[39m]\n\u001b[0;32m    108\u001b[0m }\n",
      "\u001b[1;31mKeyError\u001b[0m: 'PROPN'"
     ]
    }
   ],
   "source": [
    "news = input(\"Enter the News you want to check: \")\n",
    "metadata = feature.extract_article_features(news)"
   ]
  },
  {
   "cell_type": "code",
   "execution_count": null,
   "id": "20fca118",
   "metadata": {},
   "outputs": [],
   "source": []
  }
 ],
 "metadata": {
  "kernelspec": {
   "display_name": "env",
   "language": "python",
   "name": "python3"
  },
  "language_info": {
   "codemirror_mode": {
    "name": "ipython",
    "version": 3
   },
   "file_extension": ".py",
   "mimetype": "text/x-python",
   "name": "python",
   "nbconvert_exporter": "python",
   "pygments_lexer": "ipython3",
   "version": "3.10.0"
  }
 },
 "nbformat": 4,
 "nbformat_minor": 5
}
